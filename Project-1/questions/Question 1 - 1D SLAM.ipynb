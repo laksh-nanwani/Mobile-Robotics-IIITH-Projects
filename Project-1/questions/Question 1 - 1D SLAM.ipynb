{
 "cells": [
  {
   "cell_type": "markdown",
   "id": "posted-twist",
   "metadata": {},
   "source": [
    "# Question 1:  Pose Graph Optimization for 1D SLAM"
   ]
  },
  {
   "cell_type": "markdown",
   "id": "chemical-andorra",
   "metadata": {},
   "source": [
    "A solved example for 1D SLAM which optimizes for pose variables using weighted least squares method (Gauss Newton) has been explained in the class. You can view it at `examples/1D-SLAM.ipynb`. Your first task is to code this from scratch.\n",
    "\n",
    "For this section, you have to calculate Jacobian analytically yourself and use it. However, you can check how correct it is using `jax`'s `jacobian`. Its usage is explained in the supplementary notebook (`examples/`)."
   ]
  },
  {
   "cell_type": "markdown",
   "id": "fleet-digest",
   "metadata": {},
   "source": [
    "## How to get started?\n",
    "\n",
    "1. Go through the example and understand the optimization procedure.\n",
    "2. Generate the data as in the example.\n",
    "3. Write the derivatives of the function with respect to the constraints\n",
    "4. Create the final jacobian and write the update steps using Gauss Newton\n",
    "\n",
    "This tiny example will help make sense of the next question, as it's largely just an extension of this."
   ]
  },
  {
   "cell_type": "markdown",
   "id": "tough-brighton",
   "metadata": {},
   "source": [
    "Finally, plot the loop closure constraint, poses, and error at every iteration as well. Since this is a one dimensional example, you can just assume x = y."
   ]
  },
  {
   "cell_type": "markdown",
   "id": "7ded7eb1",
   "metadata": {},
   "source": [
    "$$\\begin{array}{ccc}\\hline \\text { Quantity } & \\text { Ground Truth } & \\text { Observed / Measured } \\\\\\hline \\mathbf{u}_{0} & 1.0 & 1.1 \\\\\\mathbf{u}_{1} & 1.0 & 1.0 \\\\\\mathbf{u}_{2} & 1.0 & 1.1 \\\\\\mathbf{u}_{3} & -3.0 & -2.7 \\\\\\mathbf{u}_{0,4} & 0.0 & 0.0 \\\\\\hline\\end{array}$$"
   ]
  },
  {
   "cell_type": "markdown",
   "id": "c484464f",
   "metadata": {},
   "source": [
    "$$\\begin{array}{ccc}\\hline \\text { Quantity } & \\text { Ground Truth } & \\text { According to Odometry } \\\\\\hline \\mathrm{x}_{0} & 0.0 & 0.0 \\\\\\mathrm{x}_{1} & 1.0 & 1.1 \\\\\\mathrm{x}_{2} & 2.0 & 2.1 \\\\\\mathrm{x}_{3} & 3.0 & 3.2 \\\\\\mathrm{x}_{4} & 0.0 & 0.5 \\\\\\hline\\end{array}$$"
   ]
  },
  {
   "cell_type": "code",
   "execution_count": 1,
   "id": "multiple-stomach",
   "metadata": {},
   "outputs": [],
   "source": [
    "import os\n",
    "import math\n",
    "import numpy as np\n",
    "import matplotlib.pyplot as plt"
   ]
  },
  {
   "cell_type": "code",
   "execution_count": 2,
   "id": "focal-identification",
   "metadata": {},
   "outputs": [],
   "source": [
    "# Code!"
   ]
  },
  {
   "cell_type": "code",
   "execution_count": 2,
   "id": "669ca1f5",
   "metadata": {},
   "outputs": [
    {
     "name": "stdout",
     "output_type": "stream",
     "text": [
      "u.T =  [[ 1.1  1.   1.1 -2.7  0. ]] \n",
      "x.T [[0.  1.1 2.1 3.2 0.5]]\n"
     ]
    }
   ],
   "source": [
    "x_gt = np.array([[0, 1.0, 2.0, 3.0, 0.0]]).T\n",
    "u = np.array([[1.1, 1.0, 1.1, -2.7, 0.0]]).T\n",
    "x = np.zeros(len(u))\n",
    "\n",
    "for k in range(len(u)-1):\n",
    "        x[k+1] = x[k] + u[k]\n",
    "        \n",
    "x = np.array([x]).T\n",
    "print(\"u.T = \", u.T, \"\\nx.T\", x.T)"
   ]
  },
  {
   "cell_type": "code",
   "execution_count": 3,
   "id": "a9ed7145",
   "metadata": {},
   "outputs": [],
   "source": [
    "def get_fx(x, u):\n",
    "    return np.array([[x[0,0] + u[0,0] - x[1,0]],\n",
    "                     [x[1,0] + u[1,0] - x[2,0]],\n",
    "                     [x[2,0] + u[2,0] - x[3,0]],\n",
    "                     [x[3,0] + u[3,0] - x[4,0]],\n",
    "                     [x[0,0] + u[4,0] - x[4,0]],\n",
    "                     [x[0,0]]])"
   ]
  },
  {
   "cell_type": "code",
   "execution_count": 4,
   "id": "64325171",
   "metadata": {},
   "outputs": [
    {
     "data": {
      "text/plain": [
       "array([[ 0. ,  0. ,  0. ,  0. , -0.5,  0. ]])"
      ]
     },
     "execution_count": 4,
     "metadata": {},
     "output_type": "execute_result"
    }
   ],
   "source": [
    "get_fx(x, u).T"
   ]
  },
  {
   "cell_type": "code",
   "execution_count": 5,
   "id": "d476365c",
   "metadata": {},
   "outputs": [],
   "source": [
    "def get_phi(covariances):\n",
    "    return np.linalg.inv(np.diag(covariances))"
   ]
  },
  {
   "cell_type": "code",
   "execution_count": 6,
   "id": "5ce038a4",
   "metadata": {},
   "outputs": [
    {
     "data": {
      "text/plain": [
       "array([[ 100.,    0.,    0.,    0.,    0.,    0.],\n",
       "       [   0.,  100.,    0.,    0.,    0.,    0.],\n",
       "       [   0.,    0.,  100.,    0.,    0.,    0.],\n",
       "       [  -0.,   -0.,   -0.,  100.,   -0.,   -0.],\n",
       "       [   0.,    0.,    0.,    0.,  100.,    0.],\n",
       "       [   0.,    0.,    0.,    0.,    0., 1000.]])"
      ]
     },
     "execution_count": 6,
     "metadata": {},
     "output_type": "execute_result"
    }
   ],
   "source": [
    "covariances = [0.01, 0.01, 0.01, 0.01, 0.01, 0.001]\n",
    "phi = get_phi(covariances)\n",
    "phi"
   ]
  },
  {
   "cell_type": "code",
   "execution_count": 7,
   "id": "cf575f89",
   "metadata": {},
   "outputs": [],
   "source": [
    "J = np.asarray([[1,-1,0,0,0], \n",
    "                [0,1,-1,0,0],\n",
    "                [0,0,1,-1,0], \n",
    "                [0,0,0,1,-1], \n",
    "                [1,0,0,0,-1],\n",
    "                [1,0,0,0,0]])"
   ]
  },
  {
   "cell_type": "code",
   "execution_count": 8,
   "id": "2c0193a2",
   "metadata": {},
   "outputs": [
    {
     "data": {
      "text/plain": [
       "array([[1200., -100.,    0.,    0., -100.],\n",
       "       [-100.,  200., -100.,    0.,    0.],\n",
       "       [   0., -100.,  200., -100.,    0.],\n",
       "       [   0.,    0., -100.,  200., -100.],\n",
       "       [-100.,    0.,    0., -100.,  200.]])"
      ]
     },
     "execution_count": 8,
     "metadata": {},
     "output_type": "execute_result"
    }
   ],
   "source": [
    "H = np.dot(J.T, np.dot(phi, J))\n",
    "H"
   ]
  },
  {
   "cell_type": "code",
   "execution_count": 9,
   "id": "7f562507",
   "metadata": {},
   "outputs": [
    {
     "data": {
      "text/plain": [
       "array([[ 100.,    0.,    0.,    0.,  100., 1000.],\n",
       "       [-100.,  100.,    0.,    0.,    0.,    0.],\n",
       "       [   0., -100.,  100.,    0.,    0.,    0.],\n",
       "       [   0.,    0., -100.,  100.,    0.,    0.],\n",
       "       [   0.,    0.,    0., -100., -100.,    0.]])"
      ]
     },
     "execution_count": 9,
     "metadata": {},
     "output_type": "execute_result"
    }
   ],
   "source": [
    "b_const = np.dot(J.T, phi.T)\n",
    "b_const"
   ]
  },
  {
   "cell_type": "code",
   "execution_count": 10,
   "id": "19811508",
   "metadata": {},
   "outputs": [],
   "source": [
    "def get_error(f, phi):\n",
    "    return np.dot(f.T, np.dot(phi, f))[0,0]"
   ]
  },
  {
   "cell_type": "code",
   "execution_count": 11,
   "id": "9d3ace77",
   "metadata": {},
   "outputs": [
    {
     "data": {
      "text/plain": [
       "25.0"
      ]
     },
     "execution_count": 11,
     "metadata": {},
     "output_type": "execute_result"
    }
   ],
   "source": [
    "get_error(get_fx(x,u), phi)"
   ]
  },
  {
   "cell_type": "code",
   "execution_count": 12,
   "id": "8056b96c",
   "metadata": {},
   "outputs": [],
   "source": [
    "def gauss_newton(x_ini, u, J, num_iter, phi, tol = 1e-25, plot_error = False):\n",
    "    H = np.dot(J.T, np.dot(phi, J))\n",
    "    H_inv = np.linalg.inv(H)\n",
    "    x = np.copy(x_ini)\n",
    "    b_const = np.dot(J.T, phi.T)\n",
    "    \n",
    "    Hb = - np.dot(H_inv, b_const)\n",
    "    \n",
    "    if plot_error:\n",
    "        errors = []\n",
    "        \n",
    "    for i in range(num_iter):\n",
    "        f = get_fx(x,u)\n",
    "#         b = np.dot(b_const, f)\n",
    "#         delta_x = -np.dot(H_inv, b)\n",
    "        delta_x = np.dot(Hb, f)\n",
    "        \n",
    "        if plot_error:\n",
    "            errors.append(get_error(f, phi))\n",
    "        \n",
    "        if (np.abs(delta_x) < tol).all():\n",
    "#             print(i)\n",
    "            break\n",
    "            \n",
    "        x = x + delta_x\n",
    "        \n",
    "    if plot_error:\n",
    "        plot_x = np.arange(len(errors))\n",
    "        plt.plot(plot_x, errors)\n",
    "        plt.xticks(plot_x)\n",
    "        plt.xlabel(\"Iterations\")\n",
    "        plt.ylabel(\"Error\")\n",
    "        plt.show()\n",
    "    \n",
    "    return x"
   ]
  },
  {
   "cell_type": "code",
   "execution_count": 13,
   "id": "e855184a",
   "metadata": {},
   "outputs": [
    {
     "name": "stdout",
     "output_type": "stream",
     "text": [
      "[[0. ]\n",
      " [1.1]\n",
      " [2.1]\n",
      " [3.2]\n",
      " [0.5]]\n"
     ]
    },
    {
     "data": {
      "image/png": "[encoded data removed]",
      "text/plain": [
       "<Figure size 432x288 with 1 Axes>"
      ]
     },
     "metadata": {
      "needs_background": "light"
     },
     "output_type": "display_data"
    },
    {
     "data": {
      "text/plain": [
       "array([[1.30104261e-18],\n",
       "       [1.00000000e+00],\n",
       "       [1.90000000e+00],\n",
       "       [2.90000000e+00],\n",
       "       [1.00000000e-01]])"
      ]
     },
     "execution_count": 13,
     "metadata": {},
     "output_type": "execute_result"
    }
   ],
   "source": [
    "print(x)\n",
    "gauss_newton(x, u, J, 5, phi, 1e-30, True)"
   ]
  },
  {
   "cell_type": "code",
   "execution_count": 15,
   "id": "1e591ae7",
   "metadata": {},
   "outputs": [
    {
     "data": {
      "image/png": "[encoded data removed]",
      "text/plain": [
       "<Figure size 432x288 with 1 Axes>"
      ]
     },
     "metadata": {
      "needs_background": "light"
     },
     "output_type": "display_data"
    },
    {
     "data": {
      "image/png": "[encoded data removed]",
      "text/plain": [
       "<Figure size 432x288 with 1 Axes>"
      ]
     },
     "metadata": {
      "needs_background": "light"
     },
     "output_type": "display_data"
    }
   ],
   "source": [
    "plt.plot(x.T[0], x.T[0])\n",
    "plt.plot(x.T[0], x.T[0], 'x', color = 'red')\n",
    "plt.plot(x_gt.T[0], x_gt.T[0])\n",
    "plt.plot(x_gt.T[0], x_gt.T[0], 'o', color = 'black')\n",
    "plt.title(\"Initial\")\n",
    "plt.show()\n",
    "\n",
    "x_c = gauss_newton(x, u, J, 5,phi, 1e-30)\n",
    "\n",
    "plt.plot(x_c.T[0], x_c.T[0])\n",
    "plt.plot(x_c.T[0], x_c.T[0], 'x', color = 'red')\n",
    "plt.plot(x_gt.T[0], x_gt.T[0])\n",
    "plt.plot(x_gt.T[0], x_gt.T[0], 'o', color = 'black')\n",
    "plt.title(\"After convergence\")\n",
    "plt.show()"
   ]
  }
 ],
 "metadata": {
  "kernelspec": {
   "display_name": "Python 3 (ipykernel)",
   "language": "python",
   "name": "python3"
  },
  "language_info": {
   "codemirror_mode": {
    "name": "ipython",
    "version": 3
   },
   "file_extension": ".py",
   "mimetype": "text/x-python",
   "name": "python",
   "nbconvert_exporter": "python",
   "pygments_lexer": "ipython3",
   "version": "3.8.12"
  }
 },
 "nbformat": 4,
 "nbformat_minor": 5
}
