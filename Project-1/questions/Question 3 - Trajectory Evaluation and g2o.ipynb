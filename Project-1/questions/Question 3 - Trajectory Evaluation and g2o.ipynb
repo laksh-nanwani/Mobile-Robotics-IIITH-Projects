{
 "cells": [
  {
   "cell_type": "markdown",
   "id": "exposed-little",
   "metadata": {},
   "source": [
    "# Question 3: Trajectory Evaluation and g2o"
   ]
  },
  {
   "cell_type": "markdown",
   "id": "hearing-bachelor",
   "metadata": {},
   "source": [
    "_Refer to the example notebooks for installation instructions_"
   ]
  },
  {
   "cell_type": "markdown",
   "id": "radio-atlantic",
   "metadata": {},
   "source": [
    "# Evo"
   ]
  },
  {
   "cell_type": "markdown",
   "id": "recognized-booking",
   "metadata": {},
   "source": [
    "So you've implemented 2D SLAM, great! Now, what? We need a measure of how good the trajectory is. The error/loss used earlier doesn't tell us much about how the trajectory differs from the ground truth. Here, we try to do just this - compute error metrics. Rather than computing these from scratch, we will just Evo - https://github.com/MichaelGrupp/evo/."
   ]
  },
  {
   "cell_type": "markdown",
   "id": "amino-command",
   "metadata": {},
   "source": [
    "Look at the absolute pose error (APE) and relative pose error (RPE). What do they capture and how are they calculated (descriptive answer)? How do these metrics differ in methodology? Can we determine if the error is more along the x/y axis?\n",
    "\n",
    "Answer the above questions and report errors for the obtained trajectory."
   ]
  },
  {
   "cell_type": "markdown",
   "id": "ee10898e",
   "metadata": {},
   "source": [
    "*Absolute Pose Error(APE) :* This provides the global accuracy of the trajectory by comparing the ground truth and estimated trajectory. We find the rigid body transformation matrix by aligning them both and then we find the error matrices at different time stamps. The mean square error from these matrices we get the APE.\n",
    "</br>\n",
    "<img src=\"../data/APE.png\" alt=\"Drawing\" style=\"width: 250px;\"/>\n",
    "</br>\n",
    "*Relative Pose Error(RPE) :* RPE gives us the local accuracy of the trajectory with respect to each frame. </br>\n",
    "We find the relative pose error matrics in a fixed interval of time. The RPE is divided into rotation and translation components. Now, RPE translation error is obtained by the mean squared error of the error matrices whereas the RPE rotation error is by only mean approach.\n",
    "</br>\n",
    "<img src=\"../data/RPE.png\" alt=\"Drawing\" style=\"width: 250px;\"/>\n",
    "</br>\n",
    "</br>\n",
    "**->** Yes, we can determine the error whether it is more along x/y axis with the help of \"evo_traj\"\n",
    "</br>\n",
    "<img src=\"../data/diff_xy.png\" alt=\"Drawing\" style=\"width: 250px;\"/>\n",
    "</br>"
   ]
  },
  {
   "cell_type": "code",
   "execution_count": 1,
   "id": "86286fa0",
   "metadata": {},
   "outputs": [],
   "source": [
    "import os\n",
    "import math\n",
    "import matplotlib.pyplot as plt\n",
    "import matplotlib.patches as mpatches\n",
    "import jax.numpy as jnp\n",
    "import jax"
   ]
  },
  {
   "cell_type": "code",
   "execution_count": 2,
   "id": "326c93fa",
   "metadata": {},
   "outputs": [],
   "source": [
    "def readVertex(fileName):\n",
    "    f = open(fileName, 'r')\n",
    "    A = f.readlines()\n",
    "    f.close()\n",
    "\n",
    "    x_arr = []\n",
    "    y_arr = []\n",
    "    theta_arr = []\n",
    "\n",
    "    for line in A:\n",
    "        if \"VERTEX_SE2\" in line:\n",
    "            (ver, ind, x, y, theta) = line.split()\n",
    "            x_arr.append(float(x))\n",
    "            y_arr.append(float(y))\n",
    "            theta_arr.append(float(theta.rstrip('\\n')))\n",
    "\n",
    "    return jnp.array([x_arr, y_arr, theta_arr]).T\n",
    "   \n",
    "def draw(X, Y, THETA):\n",
    "    ax = plt.subplot(111)\n",
    "    ax.plot(X, Y, 'bo')\n",
    "    plt.plot(X, Y, 'c-')\n",
    "\n",
    "    for i in range(len(THETA)):\n",
    "        x2 = 0.25*math.cos(THETA[i]) + X[i]\n",
    "        y2 = 0.25*math.sin(THETA[i]) + Y[i]\n",
    "        plt.plot([X[i], x2], [Y[i], y2], 'r->')\n",
    "    \n",
    "    plt.show()\n",
    "        \n",
    "def readEdge_odom(fileName):\n",
    "    f = open(fileName, 'r')\n",
    "    A = f.readlines()\n",
    "    f.close()\n",
    "\n",
    "    ind1_arr = []\n",
    "    ind2_arr = []\n",
    "    del_x = []\n",
    "    del_y = []\n",
    "    del_theta = []\n",
    "\n",
    "    for line in A:\n",
    "        if \"EDGE_SE2\" in line:\n",
    "            (edge, ind1, ind2, dx, dy, dtheta, _, _, _, _, _, _) = line.split()\n",
    "            ind1_arr.append(int(ind1))\n",
    "            ind2_arr.append(int(ind2))\n",
    "            del_x.append(float(dx))\n",
    "            del_y.append(float(dy))\n",
    "            del_theta.append(float(dtheta))\n",
    "        if \"FIX\" in line:\n",
    "            break\n",
    "\n",
    "    return (jnp.array(ind1_arr), jnp.array(ind2_arr), jnp.array(del_x), jnp.array(del_y), jnp.array(del_theta)) \n",
    "\n",
    "def readEdge_lc(fileName):\n",
    "    f = open(fileName, 'r')\n",
    "    A = f.readlines()\n",
    "    f.close()\n",
    "    flag=0\n",
    "    ind1_arr = []\n",
    "    ind2_arr = []\n",
    "    del_x = []\n",
    "    del_y = []\n",
    "    del_theta = []\n",
    "\n",
    "    for line in A:\n",
    "        if \"FIX\" in line:\n",
    "            flag=1\n",
    "        if flag==1:    \n",
    "            if \"EDGE_SE2\" in line:\n",
    "                    (edge, ind1, ind2, dx, dy, dtheta, _, _, _, _, _, _) = line.split()\n",
    "                    ind1_arr.append(int(ind1))\n",
    "                    ind2_arr.append(int(ind2))\n",
    "                    del_x.append(float(dx))\n",
    "                    del_y.append(float(dy))\n",
    "                    del_theta.append(float(dtheta))\n",
    "\n",
    "    return (jnp.array(ind1_arr), jnp.array(ind2_arr), jnp.array(del_x), jnp.array(del_y), jnp.array(del_theta)) \n"
   ]
  },
  {
   "cell_type": "code",
   "execution_count": 3,
   "id": "9e3581b4",
   "metadata": {},
   "outputs": [
    {
     "name": "stderr",
     "output_type": "stream",
     "text": [
      "WARNING:absl:No GPU/TPU found, falling back to CPU. (Set TF_CPP_MIN_LOG_LEVEL=0 and rerun for more info.)\n"
     ]
    }
   ],
   "source": [
    "edges = readEdge_odom(\"../data/edges.txt\")\n",
    "edges_lc = readEdge_lc(\"../data/edges.txt\")\n",
    "prior = readVertex(\"../data/edges.txt\")"
   ]
  },
  {
   "cell_type": "code",
   "execution_count": 4,
   "id": "04a0298c",
   "metadata": {},
   "outputs": [],
   "source": [
    "def pose_estimate(prior, edges):\n",
    "    [in1_edge,in2_edge,X_edge,Y_edge,Theta_edge] = edges\n",
    "    X,Y,Theta = [prior[0][0]],[prior[0][1]],[prior[0][2]]\n",
    "    \n",
    "    for i in in1_edge:\n",
    "        delta_X = X_edge[i]\n",
    "        delta_Y = Y_edge[i]\n",
    "        \n",
    "        pose_j = get_pose(X[i], Y[i], Theta[i], delta_X, delta_Y, Theta_edge[i])\n",
    "        X.append(pose_j[0])\n",
    "        Y.append(pose_j[1])\n",
    "        Theta.append(pose_j[2])\n",
    "        \n",
    "    return jnp.array([X,Y,Theta]).T\n",
    "\n",
    "def get_pose(x, y, theta, del_x, del_y, del_theta):\n",
    "    return jnp.array([x + del_x * jnp.cos(theta) - del_y * jnp.sin(theta), \n",
    "                      y + del_x * jnp.sin(theta) + del_y * jnp.cos(theta),\n",
    "                      theta + del_theta])\n",
    "def save_g2o_from_edges_init(fromfileName, tofilename, poses):\n",
    "#     poses = pose_estimate(prior,edges)\n",
    "    X,Y,Theta = poses[:,0], poses[:,1], poses[:,2]\n",
    "    f = open(fromfileName, 'r')\n",
    "    A = f.readlines()\n",
    "    f.close()\n",
    "    with open(tofilename, \"w\") as g2o_file:\n",
    "        for i,x,y,theta in zip(range(len(X)),X,Y,Theta):\n",
    "            g2o_file.write(\"VERTEX_SE2 \"+str(i)+\" \"+str(x)+\" \"+str(y)+\" \"+str(theta)+\"\\n\")\n",
    "        for line in A:\n",
    "            if \"VERTEX_SE2\" in line:\n",
    "                continue\n",
    "            g2o_file.write(line)  "
   ]
  },
  {
   "cell_type": "code",
   "execution_count": 5,
   "id": "typical-brief",
   "metadata": {},
   "outputs": [
    {
     "name": "stdout",
     "output_type": "stream",
     "text": [
      "Figure(640x480)\n",
      "saved '../data/optimised_traj.kitti' from '../data/optimised_traj.g2o'\n",
      "Figure(640x480)\n",
      "saved '../data/gt.kitti' from '../data/gt.g2o'\n"
     ]
    }
   ],
   "source": [
    "!cd \"../misc\";python g2o_to_kitti.py \"../data/optimised_traj.g2o\"  \"../data/optimised_traj.kitti\"\n",
    "!cd \"../misc\";python g2o_to_kitti.py \"../data/gt.g2o\"  \"../data/gt.kitti\""
   ]
  },
  {
   "cell_type": "code",
   "execution_count": 16,
   "id": "261f2205",
   "metadata": {},
   "outputs": [
    {
     "name": "stdout",
     "output_type": "stream",
     "text": [
      "--------------------------------------------------------------------------------\n",
      "Loaded 120 poses from: ../data/gt.kitti\n",
      "Loaded 120 poses from: ../data/optimised_traj.kitti\n",
      "--------------------------------------------------------------------------------\n",
      "Found 119 pairs with delta 1 (frames) among 120 poses using consecutive pairs.\n",
      "Compared 119 relative pose pairs, delta = 1 (frames) with consecutive pairs.\n",
      "Calculating RPE for translation part pose relation...\n",
      "--------------------------------------------------------------------------------\n",
      "RPE w.r.t. translation part (m)\n",
      "for delta = 1 (frames) using consecutive pairs\n",
      "(not aligned)\n",
      "\n",
      "       max\t0.361127\n",
      "      mean\t0.127821\n",
      "    median\t0.121930\n",
      "       min\t0.005519\n",
      "      rmse\t0.145925\n",
      "       sse\t2.534000\n",
      "       std\t0.070398\n",
      "\n",
      "--------------------------------------------------------------------------------\n",
      "Plotting results... \n",
      "\u001b[0m"
     ]
    }
   ],
   "source": [
    "!evo_rpe kitti \"../data/gt.kitti\" \"../data/optimised_traj.kitti\" -v --plot --plot_mode xz"
   ]
  },
  {
   "cell_type": "code",
   "execution_count": 7,
   "id": "9ef18273",
   "metadata": {
    "scrolled": true
   },
   "outputs": [
    {
     "name": "stdout",
     "output_type": "stream",
     "text": [
      "--------------------------------------------------------------------------------\n",
      "Loaded 120 poses from: ../data/gt.kitti\n",
      "Loaded 120 poses from: ../data/optimised_traj.kitti\n",
      "--------------------------------------------------------------------------------\n",
      "Found 119 pairs with delta 1 (frames) among 120 poses using consecutive pairs.\n",
      "Compared 119 relative pose pairs, delta = 1 (frames) with consecutive pairs.\n",
      "Calculating RPE for translation part pose relation...\n",
      "--------------------------------------------------------------------------------\n",
      "RPE w.r.t. translation part (m)\n",
      "for delta = 1 (frames) using consecutive pairs\n",
      "(not aligned)\n",
      "\n",
      "       max\t0.361127\n",
      "      mean\t0.127821\n",
      "    median\t0.121930\n",
      "       min\t0.005519\n",
      "      rmse\t0.145925\n",
      "       sse\t2.534000\n",
      "       std\t0.070398\n",
      "\n",
      "--------------------------------------------------------------------------------\n",
      "Plotting results... \n",
      "\u001b[0m"
     ]
    }
   ],
   "source": [
    "!evo_rpe kitti \"../data/gt.kitti\" \"../data/optimised_traj.kitti\" -v --plot --plot_mode xy"
   ]
  },
  {
   "cell_type": "code",
   "execution_count": 8,
   "id": "c0370e3d",
   "metadata": {
    "scrolled": true
   },
   "outputs": [
    {
     "name": "stdout",
     "output_type": "stream",
     "text": [
      "--------------------------------------------------------------------------------\n",
      "Loaded 120 poses from: ../data/gt.kitti\n",
      "Loaded 120 poses from: ../data/optimised_traj.kitti\n",
      "--------------------------------------------------------------------------------\n",
      "Compared 120 absolute pose pairs.\n",
      "Calculating APE for translation part pose relation...\n",
      "--------------------------------------------------------------------------------\n",
      "APE w.r.t. translation part (m)\n",
      "(not aligned)\n",
      "\n",
      "       max\t5.279695\n",
      "      mean\t2.093739\n",
      "    median\t1.722805\n",
      "       min\t0.000000\n",
      "      rmse\t2.641265\n",
      "       sse\t837.153781\n",
      "       std\t1.610137\n",
      "\n",
      "--------------------------------------------------------------------------------\n",
      "Plotting results... \n",
      "\u001b[0m"
     ]
    }
   ],
   "source": [
    "!evo_ape kitti \"../data/gt.kitti\" \"../data/optimised_traj.kitti\" -v --plot --plot_mode xy"
   ]
  },
  {
   "cell_type": "code",
   "execution_count": 2,
   "id": "e7171e44",
   "metadata": {},
   "outputs": [
    {
     "name": "stdout",
     "output_type": "stream",
     "text": [
      "--------------------------------------------------------------------------------\n",
      "Loaded 120 poses from: ../data/gt.kitti\n",
      "Loaded 120 poses from: ../data/optimised_traj.kitti\n",
      "--------------------------------------------------------------------------------\n",
      "name:\tgt\n",
      "infos:\n",
      "\tnr. of poses\t120\n",
      "\tpath length (m)\t52.976517997999295\n",
      "\tpos_end (m)\t[-2.8 -4.5  0. ]\n",
      "\tpos_start (m)\t[-8.  5.  0.]\n",
      "--------------------------------------------------------------------------------\n",
      "name:\toptimised_traj\n",
      "infos:\n",
      "\tnr. of poses\t120\n",
      "\tpath length (m)\t53.99272531638332\n",
      "\tpos_end (m)\t[-6.9523926 -3.3227053  0.       ]\n",
      "\tpos_start (m)\t[-8.  5.  0.]\n",
      "\u001b[0m"
     ]
    }
   ],
   "source": [
    "!evo_traj kitti \"../data/gt.kitti\" \"../data/optimised_traj.kitti\" -v --plot --plot_mode xy"
   ]
  },
  {
   "cell_type": "markdown",
   "id": "surrounded-anderson",
   "metadata": {},
   "source": [
    "If you're interested, play around with this tool and add any other plots that you think might be relevant/interesting."
   ]
  },
  {
   "cell_type": "markdown",
   "id": "exceptional-charity",
   "metadata": {},
   "source": [
    "# g2o"
   ]
  },
  {
   "cell_type": "markdown",
   "id": "presidential-hayes",
   "metadata": {},
   "source": [
    "Install g2o as mentioned in `examples/g2o.ipynb` and optimise `edges.txt`, the file you used earlier. Also use `g2o_viewer` and optimize `intel` (a trajectory in the Intel research lab) and `sphere`. They should look something like:\n",
    "\n",
    "\n",
    "<table><tr>\n",
    "<td> <img src=\"../misc/intel.jpg\" alt=\"Drawing\" style=\"width: 250px;\"/> </td>\n",
    "<td> <img src=\"../misc/sphere.jpg\" alt=\"Drawing\" style=\"width: 250px;\"/> </td>\n",
    "</tr></table>"
   ]
  },
  {
   "cell_type": "markdown",
   "id": "amino-football",
   "metadata": {},
   "source": [
    "Write briefly about your observations and try out few options in the GUI. What do they do, how do they perform?"
   ]
  },
  {
   "cell_type": "code",
   "execution_count": 10,
   "id": "af16299d",
   "metadata": {
    "scrolled": true
   },
   "outputs": [
    {
     "name": "stdout",
     "output_type": "stream",
     "text": [
      "# Using EigenSparseCholesky poseDim -1 landMarkDim -1 blockordering 1\r\n",
      "Read input from ../data/edges-poses.g2o\r\n",
      "Loaded 120 vertices\r\n",
      "Loaded 139 edges\r\n",
      "# graph is fixed by priors or already fixed vertex\r\n",
      "Initial chi2 = 573824.347294\r\n",
      "saving ../data/optmised.g2o ... done.\r\n"
     ]
    }
   ],
   "source": [
    "!g2o -o \"../data/optmised.g2o\" \"../data/edges-poses.g2o\""
   ]
  },
  {
   "cell_type": "code",
   "execution_count": 11,
   "id": "28e9757e",
   "metadata": {},
   "outputs": [
    {
     "data": {
      "image/png": "[encoded data removed]",
      "text/plain": [
       "<Figure size 432x288 with 1 Axes>"
      ]
     },
     "metadata": {
      "needs_background": "light"
     },
     "output_type": "display_data"
    },
    {
     "data": {
      "image/png": "[encoded data removed]",
      "text/plain": [
       "<Figure size 432x288 with 1 Axes>"
      ]
     },
     "metadata": {
      "needs_background": "light"
     },
     "output_type": "display_data"
    }
   ],
   "source": [
    "g2o_optimised = readVertex(\"../data/optmised.g2o\")\n",
    "poses_gt = readVertex(\"../data/gt.txt\")\n",
    "draw(poses_gt[:,0], poses_gt[:,1], poses_gt[:,2])\n",
    "draw(g2o_optimised[:, 0], g2o_optimised[:, 1], g2o_optimised[:, 2]) #error only at x"
   ]
  },
  {
   "cell_type": "code",
   "execution_count": 12,
   "id": "c1a377f9",
   "metadata": {},
   "outputs": [
    {
     "name": "stdout",
     "output_type": "stream",
     "text": [
      "The constructor with a shareWidget is deprecated, use the regular contructor instead.\r\n"
     ]
    }
   ],
   "source": [
    "!g2o_viewer \"../data/edges-poses.g2o\"\n"
   ]
  },
  {
   "cell_type": "markdown",
   "id": "36ed26f6",
   "metadata": {},
   "source": [
    "<img src=\"../data/edges_poses.jpeg\" alt=\"Drawing\"/>\n",
    "\n",
    "\n"
   ]
  },
  {
   "cell_type": "code",
   "execution_count": 13,
   "id": "af60e7ef",
   "metadata": {},
   "outputs": [
    {
     "name": "stdout",
     "output_type": "stream",
     "text": [
      "The constructor with a shareWidget is deprecated, use the regular contructor instead.\r\n"
     ]
    }
   ],
   "source": [
    "!g2o_viewer \"../data/intel.g2o\""
   ]
  },
  {
   "cell_type": "markdown",
   "id": "a831ceac",
   "metadata": {},
   "source": [
    "<img src=\"../data/intel.jpeg\" alt=\"Drawing\"/>"
   ]
  },
  {
   "cell_type": "code",
   "execution_count": 14,
   "id": "f5344c3e",
   "metadata": {},
   "outputs": [
    {
     "name": "stdout",
     "output_type": "stream",
     "text": [
      "The constructor with a shareWidget is deprecated, use the regular contructor instead.\r\n"
     ]
    }
   ],
   "source": [
    "!g2o_viewer \"../data/sphere.g2o\""
   ]
  },
  {
   "cell_type": "markdown",
   "id": "129083c9",
   "metadata": {},
   "source": [
    "<img src=\"../data/sphere.jpeg\" alt=\"Drawing\"/>"
   ]
  },
  {
   "cell_type": "markdown",
   "id": "85a41ac6",
   "metadata": {},
   "source": [
    "These are some of the observations for different optimisers:\n",
    "\n",
    "1. ***gn_var_cholmod, gn_fix3_2_cholmod, dl_var*** worked properly for optimisations.\n",
    "2. ***gn_dense, lm_dense*** stalled the system, everything got stuck\n",
    "3. ***gn_var, gn_var_csparse*** didn't worked\n",
    "4. nothing changed in case of ***structure_only_2***\n",
    "5. \"preparing (no marginalisation of landmarks)\" got this output for ***gn dense/lm_dense***\n"
   ]
  }
 ],
 "metadata": {
  "kernelspec": {
   "display_name": "Python 3 (ipykernel)",
   "language": "python",
   "name": "python3"
  },
  "language_info": {
   "codemirror_mode": {
    "name": "ipython",
    "version": 3
   },
   "file_extension": ".py",
   "mimetype": "text/x-python",
   "name": "python",
   "nbconvert_exporter": "python",
   "pygments_lexer": "ipython3",
   "version": "3.8.12"
  }
 },
 "nbformat": 4,
 "nbformat_minor": 5
}
